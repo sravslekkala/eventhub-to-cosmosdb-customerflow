{
 "cells": [
  {
   "cell_type": "code",
   "execution_count": 0,
   "metadata": {
    "application/vnd.databricks.v1+cell": {
     "cellMetadata": {
      "byteLimit": 2048000,
      "rowLimit": 10000
     },
     "inputWidgets": {},
     "nuid": "badb6246-553f-49b1-baa2-cabc381c0ada",
     "showTitle": false,
     "tableResultSettingsMap": {},
     "title": ""
    }
   },
   "outputs": [],
   "source": [
    "from pyspark.sql.functions import from_json,lit,col,current_timestamp\n",
    "\n",
    "def load_bronze_multiplex(rawstream,source_type,checkpoint,tablepath):\n",
    "    \n",
    "    query=rawstream\\\n",
    "        .selectExpr(\"cast(json_data as string) as raw_payload\")\\\n",
    "            .withColumn(\"source\",lit(source_type))\\\n",
    "                .withColumn(\"ingesttimestamp\",current_timestamp())\\\n",
    "                    .writeStream\\\n",
    "                        .format(\"delta\")\\\n",
    "                            .outputMode(\"append\")\\\n",
    "                                .partitionBy(\"source\")\\\n",
    "                                .option(\"checkpointLocation\",checkpoint)\\\n",
    "                                .start(tablepath)\n",
    "    return query\n"
   ]
  }
 ],
 "metadata": {
  "application/vnd.databricks.v1+notebook": {
   "computePreferences": null,
   "dashboards": [],
   "environmentMetadata": {
    "base_environment": "",
    "environment_version": "2"
   },
   "inputWidgetPreferences": null,
   "language": "python",
   "notebookMetadata": {
    "pythonIndentUnit": 4
   },
   "notebookName": "Includes",
   "widgets": {}
  },
  "language_info": {
   "name": "python"
  }
 },
 "nbformat": 4,
 "nbformat_minor": 0
}
