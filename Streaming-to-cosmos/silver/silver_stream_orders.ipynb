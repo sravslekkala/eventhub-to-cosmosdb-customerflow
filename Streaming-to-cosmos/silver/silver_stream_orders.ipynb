{
 "cells": [
  {
   "cell_type": "code",
   "execution_count": 0,
   "metadata": {
    "application/vnd.databricks.v1+cell": {
     "cellMetadata": {
      "byteLimit": 2048000,
      "implicitDf": true,
      "rowLimit": 10000
     },
     "inputWidgets": {},
     "nuid": "87747f6b-134e-4cf3-88f7-3674b6b54b7a",
     "showTitle": false,
     "tableResultSettingsMap": {},
     "title": ""
    }
   },
   "outputs": [],
   "source": [
    "%sql\n",
    "select * from delta.`/mnt/bronze/multiplexbronzetable` where source='orders';"
   ]
  },
  {
   "cell_type": "code",
   "execution_count": 0,
   "metadata": {
    "application/vnd.databricks.v1+cell": {
     "cellMetadata": {
      "byteLimit": 2048000,
      "implicitDf": true,
      "rowLimit": 10000
     },
     "inputWidgets": {},
     "nuid": "b28f5719-3238-4226-b62d-f46200a96cc3",
     "showTitle": false,
     "tableResultSettingsMap": {},
     "title": ""
    }
   },
   "outputs": [],
   "source": [
    "from pyspark.sql.functions import from_json, col\n",
    "from pyspark.sql.types import *\n",
    "\n",
    "# Define the schema inline\n",
    "orders_schema = StructType([\n",
    "    StructField(\"order_id\", StringType()),\n",
    "    StructField(\"customer_id\", StringType()),\n",
    "    StructField(\"order_date\", DateType()),\n",
    "    StructField(\"status\", StringType()),\n",
    "    StructField(\"payment_method\", StringType()),\n",
    "    StructField(\"shipping_method\", StringType()),\n",
    "    StructField(\"shipping_address\", StringType()),\n",
    "    StructField(\"total_amount\", DoubleType()),\n",
    "    StructField(\"items\", ArrayType(StructType([\n",
    "        StructField(\"product_id\", StringType()),\n",
    "        StructField(\"quantity\", IntegerType()),\n",
    "        StructField(\"price\", DoubleType()),\n",
    "        StructField(\"discount\", DoubleType()),\n",
    "        StructField(\"subtotal\", DoubleType())\n",
    "    ])))\n",
    "])\n",
    "\n",
    "raw_orders = spark.readStream.format(\"delta\").load(\"/mnt/bronze/multiplexbronzetable\") \\\n",
    "    .filter(\"source = 'orders'\")\n",
    "\n",
    "parsed_orders = raw_orders.withColumn(\n",
    "    \"parsed\", from_json(col(\"raw_payload\").cast(\"string\"), orders_schema)\n",
    ").select(\"parsed.*\", \"ingesttimestamp\")\n",
    "\n",
    "deduped_orders = parsed_orders \\\n",
    "    .withWatermark(\"ingesttimestamp\", \"10 minutes\") \\\n",
    "    .dropDuplicates([\"order_id\", \"customer_id\"])\n",
    "\n"
   ]
  },
  {
   "cell_type": "code",
   "execution_count": 0,
   "metadata": {
    "application/vnd.databricks.v1+cell": {
     "cellMetadata": {
      "byteLimit": 2048000,
      "rowLimit": 10000
     },
     "inputWidgets": {},
     "nuid": "d3c67905-802a-44e4-8ab7-d7ad278fe638",
     "showTitle": false,
     "tableResultSettingsMap": {},
     "title": ""
    }
   },
   "outputs": [],
   "source": [
    "display(deduped_orders)"
   ]
  },
  {
   "cell_type": "code",
   "execution_count": 0,
   "metadata": {
    "application/vnd.databricks.v1+cell": {
     "cellMetadata": {
      "byteLimit": 2048000,
      "implicitDf": true,
      "rowLimit": 10000
     },
     "inputWidgets": {},
     "nuid": "a0bf660d-f252-46a4-9882-e79019f9fa2a",
     "showTitle": false,
     "tableResultSettingsMap": {},
     "title": ""
    }
   },
   "outputs": [],
   "source": [
    "%sql\n",
    "create table if not exists orders_silver(\n",
    "  order_id string,customer_id string,order_date date,status string,payment_method string,shipping_method string,shipping_address string,total_amount double, items array<struct<product_id:string,quantity:int,price:double,discount:double,subtotal:double>>,\n",
    "  ingesttimestamp timestamp\n",
    ") \n",
    "\n",
    "Location \"/mnt/silver/orders_silver\";"
   ]
  },
  {
   "cell_type": "code",
   "execution_count": 0,
   "metadata": {
    "application/vnd.databricks.v1+cell": {
     "cellMetadata": {
      "byteLimit": 2048000,
      "implicitDf": true,
      "rowLimit": 10000
     },
     "inputWidgets": {},
     "nuid": "dfcdcf29-e9fd-44bb-bb9e-0bd23ba1460f",
     "showTitle": false,
     "tableResultSettingsMap": {},
     "title": ""
    }
   },
   "outputs": [],
   "source": [
    "%sql\n",
    "drop table orders_silver"
   ]
  },
  {
   "cell_type": "code",
   "execution_count": 0,
   "metadata": {
    "application/vnd.databricks.v1+cell": {
     "cellMetadata": {
      "byteLimit": 2048000,
      "rowLimit": 10000
     },
     "inputWidgets": {},
     "nuid": "6a6968c4-cb87-4794-bc2c-1268fa1db374",
     "showTitle": false,
     "tableResultSettingsMap": {},
     "title": ""
    }
   },
   "outputs": [],
   "source": [
    "deduped_orders.writeStream\\\n",
    "    .format(\"delta\")\\\n",
    "        .option(\"checkpointLocation\",\"/mnt/checkpoint/silver/orders2\")\\\n",
    "            .outputMode(\"append\")\\\n",
    "                .option(\"mergeSchema\",\"true\")\\\n",
    "            .start(\"/mnt/silver/orders_silver\")        \n",
    "            "
   ]
  },
  {
   "cell_type": "code",
   "execution_count": 0,
   "metadata": {
    "application/vnd.databricks.v1+cell": {
     "cellMetadata": {
      "byteLimit": 2048000,
      "implicitDf": true,
      "rowLimit": 10000
     },
     "inputWidgets": {},
     "nuid": "8d5ba0ea-1606-49cf-a24e-d0916512b5f7",
     "showTitle": false,
     "tableResultSettingsMap": {},
     "title": ""
    }
   },
   "outputs": [],
   "source": [
    "%sql\n",
    "select * from orders_silver"
   ]
  }
 ],
 "metadata": {
  "application/vnd.databricks.v1+notebook": {
   "computePreferences": null,
   "dashboards": [],
   "environmentMetadata": {
    "base_environment": "",
    "environment_version": "2"
   },
   "inputWidgetPreferences": null,
   "language": "python",
   "notebookMetadata": {
    "mostRecentlyExecutedCommandWithImplicitDF": {
     "commandId": 7282044404301248,
     "dataframes": [
      "_sqldf"
     ]
    },
    "pythonIndentUnit": 4
   },
   "notebookName": "silver_stream_orders",
   "widgets": {}
  },
  "language_info": {
   "name": "python"
  }
 },
 "nbformat": 4,
 "nbformat_minor": 0
}
