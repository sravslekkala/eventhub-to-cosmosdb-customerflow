{
 "cells": [
  {
   "cell_type": "code",
   "execution_count": 0,
   "metadata": {
    "application/vnd.databricks.v1+cell": {
     "cellMetadata": {
      "byteLimit": 2048000,
      "implicitDf": true,
      "rowLimit": 10000
     },
     "inputWidgets": {},
     "nuid": "6626c29e-1912-41c5-99e7-3859f089e797",
     "showTitle": false,
     "tableResultSettingsMap": {},
     "title": ""
    }
   },
   "outputs": [],
   "source": [
    "%sql\n",
    "select * from delta.`/mnt/bronze/multiplexbronzetable` where source='shipments';"
   ]
  },
  {
   "cell_type": "code",
   "execution_count": 0,
   "metadata": {
    "application/vnd.databricks.v1+cell": {
     "cellMetadata": {
      "byteLimit": 2048000,
      "rowLimit": 10000
     },
     "inputWidgets": {},
     "nuid": "14621087-0c8f-434c-8f6b-51066aed13f4",
     "showTitle": false,
     "tableResultSettingsMap": {},
     "title": ""
    }
   },
   "outputs": [],
   "source": [
    "df=spark.readStream.format('delta').load(\"/mnt/bronze/multiplexbronzetable\").filter(\"source=='shipments'\")"
   ]
  },
  {
   "cell_type": "code",
   "execution_count": 0,
   "metadata": {
    "application/vnd.databricks.v1+cell": {
     "cellMetadata": {
      "byteLimit": 2048000,
      "rowLimit": 10000
     },
     "inputWidgets": {},
     "nuid": "699f478b-d23c-45e7-aedf-78a24fafdbe3",
     "showTitle": false,
     "tableResultSettingsMap": {},
     "title": ""
    }
   },
   "outputs": [],
   "source": [
    "from pyspark.sql.types import *\n",
    "\n",
    "shipment_schema = StructType([\n",
    "    StructField(\"shipment_id\", StringType(), True),\n",
    "    StructField(\"order_id\", StringType(), True),\n",
    "    StructField(\"shipment_date\", TimestampType(), True),\n",
    "    StructField(\"expected_delivery_date\", TimestampType(), True),\n",
    "    StructField(\"carrier\", StringType(), True),\n",
    "    StructField(\"tracking_number\", StringType(), True),\n",
    "    StructField(\"shipment_status\", StringType(), True),\n",
    "    StructField(\"warehouse_location\", StringType(), True),\n",
    "    StructField(\"shipping_cost\", DoubleType(), True),\n",
    "    StructField(\"delivery_type\", StringType(), True)\n",
    "])"
   ]
  },
  {
   "cell_type": "code",
   "execution_count": 0,
   "metadata": {
    "application/vnd.databricks.v1+cell": {
     "cellMetadata": {
      "byteLimit": 2048000,
      "rowLimit": 10000
     },
     "inputWidgets": {},
     "nuid": "94879e78-e054-4393-a004-4884a09ee8b0",
     "showTitle": false,
     "tableResultSettingsMap": {},
     "title": ""
    }
   },
   "outputs": [],
   "source": [
    "from pyspark.sql.functions import from_json,cast,col\n",
    "\n",
    "parsed_df=df.withColumn('payload',from_json(col('raw_payload').cast('String'),shipment_schema)).select('payload.*','ingesttimestamp')\n",
    "deduped_df=parsed_df\\\n",
    "        .withWatermark(\"ingesttimestamp\", \"10 hours\")\\\n",
    "        .dropDuplicates([\"shipment_id\"])\n"
   ]
  },
  {
   "cell_type": "code",
   "execution_count": 0,
   "metadata": {
    "application/vnd.databricks.v1+cell": {
     "cellMetadata": {
      "byteLimit": 2048000,
      "rowLimit": 10000
     },
     "inputWidgets": {},
     "nuid": "df4b5932-c8f0-45dc-9fca-3bda720e3e71",
     "showTitle": false,
     "tableResultSettingsMap": {},
     "title": ""
    }
   },
   "outputs": [],
   "source": [
    "display(deduped_df)"
   ]
  },
  {
   "cell_type": "code",
   "execution_count": 0,
   "metadata": {
    "application/vnd.databricks.v1+cell": {
     "cellMetadata": {
      "byteLimit": 2048000,
      "implicitDf": true,
      "rowLimit": 10000
     },
     "inputWidgets": {},
     "nuid": "ebd0e352-8eb4-4436-bb75-bcff1ba9ac1e",
     "showTitle": false,
     "tableResultSettingsMap": {},
     "title": ""
    }
   },
   "outputs": [],
   "source": [
    "%sql\n",
    "CREATE TABLE IF NOT EXISTS shipments_silver (\n",
    "  shipment_id STRING,\n",
    "  order_id STRING,\n",
    "  shipment_date TIMESTAMP,\n",
    "  expected_delivery_date TIMESTAMP,\n",
    "  carrier STRING,\n",
    "  tracking_number STRING,\n",
    "  shipment_status STRING,\n",
    "  warehouse_location STRING,\n",
    "  shipping_cost DOUBLE,\n",
    "  delivery_type STRING,\n",
    "  ingesttimestamp TIMESTAMP\n",
    ")\n",
    "USING DELTA\n",
    "PARTITIONED BY (ingesttimestamp)\n",
    "LOCATION '/mnt/silver/shipments_silver';"
   ]
  },
  {
   "cell_type": "code",
   "execution_count": 0,
   "metadata": {
    "application/vnd.databricks.v1+cell": {
     "cellMetadata": {
      "byteLimit": 2048000,
      "rowLimit": 10000
     },
     "inputWidgets": {},
     "nuid": "f3827f49-9c72-412e-81b3-148eef9e12b2",
     "showTitle": false,
     "tableResultSettingsMap": {},
     "title": ""
    }
   },
   "outputs": [],
   "source": [
    "deduped_df.writeStream\\\n",
    "    .format(\"delta\")\\\n",
    "        .option(\"checkpointLocation\", \"/mnt/checkpoints/silver/shipments\")\\\n",
    "        .option(\"mergeSchema\",'true')\\\n",
    "            .partitionBy('ingesttimestamp')\\\n",
    "                .table('shipments_silver')"
   ]
  },
  {
   "cell_type": "code",
   "execution_count": 0,
   "metadata": {
    "application/vnd.databricks.v1+cell": {
     "cellMetadata": {
      "byteLimit": 2048000,
      "implicitDf": true,
      "rowLimit": 10000
     },
     "inputWidgets": {},
     "nuid": "d43bb565-ff02-4334-ac8f-5c7a0d37fd5e",
     "showTitle": false,
     "tableResultSettingsMap": {},
     "title": ""
    }
   },
   "outputs": [],
   "source": [
    "%sql\n",
    "select * from shipments_silver;"
   ]
  }
 ],
 "metadata": {
  "application/vnd.databricks.v1+notebook": {
   "computePreferences": null,
   "dashboards": [],
   "environmentMetadata": {
    "base_environment": "",
    "environment_version": "2"
   },
   "inputWidgetPreferences": null,
   "language": "python",
   "notebookMetadata": {
    "mostRecentlyExecutedCommandWithImplicitDF": {
     "commandId": 5606709106711210,
     "dataframes": [
      "_sqldf"
     ]
    },
    "pythonIndentUnit": 4
   },
   "notebookName": "silver_stream_shipments",
   "widgets": {}
  },
  "language_info": {
   "name": "python"
  }
 },
 "nbformat": 4,
 "nbformat_minor": 0
}
